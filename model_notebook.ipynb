{
 "cells": [
  {
   "cell_type": "code",
   "execution_count": null,
   "metadata": {},
   "outputs": [],
   "source": [
    "from model import *"
   ]
  },
  {
   "cell_type": "code",
   "execution_count": null,
   "metadata": {},
   "outputs": [],
   "source": [
    "%matplotlib inline\n",
    "import matplotlib.pyplot as plt"
   ]
  },
  {
   "cell_type": "code",
   "execution_count": null,
   "metadata": {},
   "outputs": [],
   "source": [
    "model = Model(20, 100, 100, 22)\n",
    "[a.visualize_perception_distance_map() for a in model.schedule.agents]\n",
    "[a.visualize_motor_distance_map() for a in model.schedule.agents]\n",
    "[a.visualize_perception_map() for a in model.schedule.agents]\n",
    "[a.visualize_motor_map() for a in model.schedule.agents]\n",
    "for i in range(2000):\n",
    "    model.step()\n",
    "    if (i == 0):\n",
    "        print(\"current step: \" + str(i))\n",
    "    elif (i % 499 == 0):\n",
    "        print(\"current step: \" + str(i))\n",
    "        [a.visualize_perception_distance_map() for a in model.schedule.agents]\n",
    "        [a.visualize_motor_distance_map() for a in model.schedule.agents]\n",
    "        [a.visualize_perception_map() for a in model.schedule.agents]\n",
    "        [a.visualize_motor_map() for a in model.schedule.agents]\n",
    "    elif (i % 99 == 0):\n",
    "        print(\"current step: \" + str(i))\n",
    "    elif (i == 1999):\n",
    "        print(\"current step: \" + str(i))\n",
    "        [a.visualize_perception_distance_map() for a in model.schedule.agents]\n",
    "        [a.visualize_motor_distance_map() for a in model.schedule.agents]\n",
    "        [a.visualize_perception_map() for a in model.schedule.agents]\n",
    "        [a.visualize_motor_map() for a in model.schedule.agents]"
   ]
  }
 ],
 "metadata": {
  "interpreter": {
   "hash": "916dbcbb3f70747c44a77c7bcd40155683ae19c65e1c03b4aa3499c5328201f1"
  },
  "kernelspec": {
   "display_name": "Python 3.8.10 64-bit",
   "language": "python",
   "name": "python3"
  },
  "language_info": {
   "codemirror_mode": {
    "name": "ipython",
    "version": 3
   },
   "file_extension": ".py",
   "mimetype": "text/x-python",
   "name": "python",
   "nbconvert_exporter": "python",
   "pygments_lexer": "ipython3",
   "version": "3.8.10"
  },
  "orig_nbformat": 4
 },
 "nbformat": 4,
 "nbformat_minor": 2
}
